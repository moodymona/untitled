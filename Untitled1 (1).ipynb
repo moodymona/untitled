{
 "cells": [
  {
   "cell_type": "code",
   "execution_count": 3,
   "id": "2c707161-20f1-4f2b-bb3d-2f92f8509485",
   "metadata": {},
   "outputs": [
    {
     "name": "stdout",
     "output_type": "stream",
     "text": [
      "Ahmed,:84.33333333333333\n",
      "Mona,:88.0\n",
      "Ali,:78.0\n"
     ]
    }
   ],
   "source": [
    "students =[{\"name\":\"Ahmed\" ,\"Grades\":[85, 90, 78]} ,{\"name\":\"Mona\" ,\"Grades\":[92, 88, 84]} ,{\"name\":\"Ali\" ,\"Grades\":[75, 80, 79]}]\n",
    "for student in students:\n",
    "    name = student[\"name\"]\n",
    "    grades = student[\"Grades\"]\n",
    "    average = sum(grades) / len(grades)\n",
    "    print(f\"{name},:{average}\")"
   ]
  },
  {
   "cell_type": "code",
   "execution_count": null,
   "id": "42d5d081-1736-4d42-9177-8e7698855664",
   "metadata": {},
   "outputs": [
    {
     "name": "stdout",
     "output_type": "stream",
     "text": [
      "[{'Ahmed': '0123456789'}, {'Mona': '01099519260'}, {'Ali': '01087564653'}]\n"
     ]
    }
   ],
   "source": [
    "contacts =[{\"Ahmed\":\"0123456789\"} ,{\"Mona\":\"01099519260\"} ,{\"Ali\":\"01087564653\"}]\n",
    "print(contacts)\n",
    "search_name = input(\"enter the name you want to search for:\")\n",
    "if search_name in contacts:\n",
    "    print(f\"phone number for {Mona} is {contacts[Mona]}\")\n",
    "else:\n",
    "    print(\"name not found.\")"
   ]
  },
  {
   "cell_type": "code",
   "execution_count": null,
   "id": "12b2b3fa-20a7-4e9d-8875-50e873d46db2",
   "metadata": {},
   "outputs": [],
   "source": []
  }
 ],
 "metadata": {
  "kernelspec": {
   "display_name": "Python [conda env:base] *",
   "language": "python",
   "name": "conda-base-py"
  },
  "language_info": {
   "codemirror_mode": {
    "name": "ipython",
    "version": 3
   },
   "file_extension": ".py",
   "mimetype": "text/x-python",
   "name": "python",
   "nbconvert_exporter": "python",
   "pygments_lexer": "ipython3",
   "version": "3.12.7"
  }
 },
 "nbformat": 4,
 "nbformat_minor": 5
}
